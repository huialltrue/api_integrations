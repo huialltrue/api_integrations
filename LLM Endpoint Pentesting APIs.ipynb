{
 "cells": [
  {
   "cell_type": "markdown",
   "id": "f652b4d2",
   "metadata": {
    "slideshow": {
     "slide_type": "slide"
    }
   },
   "source": "# LLM Endpoint Pentesting APIs"
  },
  {
   "metadata": {},
   "cell_type": "markdown",
   "source": [
    "- Extract Project ID\n",
    "- Create LLM Endpoint\n",
    "- Retrieve Pentest Template ID\n",
    "- Run Pentest\n",
    "- Wait for Pentest to Complete\n",
    "- Download CSV report"
   ],
   "id": "1ca67405d623708d"
  },
  {
   "cell_type": "markdown",
   "id": "d79fad2d",
   "metadata": {
    "slideshow": {
     "slide_type": "slide"
    }
   },
   "source": [
    "### Extract Project ID"
   ]
  },
  {
   "cell_type": "markdown",
   "id": "ae8cd70e",
   "metadata": {
    "slideshow": {
     "slide_type": "fragment"
    }
   },
   "source": [
    "#### Setting up API Access\n",
    "Retrieve from Admin Console\n",
    "- API key\n",
    "- customer ID"
   ]
  },
  {
   "cell_type": "markdown",
   "id": "687da968",
   "metadata": {},
   "source": [
    "![](images/admin_console.png)"
   ]
  },
  {
   "cell_type": "markdown",
   "id": "7fac7802",
   "metadata": {},
   "source": [
    "![](images/api_key.png)"
   ]
  },
  {
   "cell_type": "markdown",
   "id": "649f00bb",
   "metadata": {},
   "source": [
    "![](images/customer_id.png)"
   ]
  },
  {
   "cell_type": "markdown",
   "id": "1ba04877",
   "metadata": {},
   "source": [
    "##### Load Environment Variables"
   ]
  },
  {
   "cell_type": "code",
   "execution_count": 1,
   "id": "696c8168",
   "metadata": {
    "ExecuteTime": {
     "end_time": "2025-09-02T13:52:43.349560Z",
     "start_time": "2025-09-02T13:52:43.309240Z"
    }
   },
   "outputs": [],
   "source": [
    "import os\n",
    "import json\n",
    "import time\n",
    "import requests\n",
    "from dotenv import load_dotenv\n",
    "\n",
    "load_dotenv()\n",
    "\n",
    "api_url = \"https://api.prod.alltrue-be.com\"  # Replace with the actual base URL of your Guardium AI Security tenant\n",
    "api_key = os.getenv(\"API_KEY\")  # Set your API key as an environment variable\n",
    "customer_id = os.getenv(\"CUSTOMER_ID\")  # Replace with your actual customer ID"
   ]
  },
  {
   "cell_type": "markdown",
   "id": "fff50fb1",
   "metadata": {},
   "source": "#### Get a JWT Token"
  },
  {
   "cell_type": "code",
   "execution_count": 2,
   "id": "9d696e6e",
   "metadata": {
    "ExecuteTime": {
     "end_time": "2025-09-02T13:52:44.517012Z",
     "start_time": "2025-09-02T13:52:43.430066Z"
    }
   },
   "outputs": [],
   "source": [
    "def get_jwt_token(api_key):\n",
    "    endpoint = f\"{api_url}/v1/auth/issue-jwt-token\"\n",
    "    headers = {\"X-API-Key\": f\"{api_key}\"}\n",
    "    response = requests.post(endpoint, headers=headers)\n",
    "    response.raise_for_status()\n",
    "    return response.json()[\"access_token\"]\n",
    "\n",
    "\n",
    "jwt_token = get_jwt_token(api_key)"
   ]
  },
  {
   "cell_type": "markdown",
   "id": "5a4246aa",
   "metadata": {},
   "source": [
    "#### Function to make API requests"
   ]
  },
  {
   "cell_type": "code",
   "execution_count": 3,
   "id": "a51498e0",
   "metadata": {
    "ExecuteTime": {
     "end_time": "2025-09-02T13:52:44.532706Z",
     "start_time": "2025-09-02T13:52:44.529265Z"
    }
   },
   "outputs": [],
   "source": [
    "def make_api_request(endpoint, token: str, method=\"GET\",  data=None, params=None):\n",
    "    headers = {\n",
    "        \"Authorization\": f\"Bearer {token}\",\n",
    "        \"Content-Type\": \"application/json\"\n",
    "    }\n",
    "    url = f\"{api_url}{endpoint}\"\n",
    "\n",
    "    response = requests.request(method, url, headers=headers, params=params, json=data)\n",
    "    response.raise_for_status()\n",
    "    return response.json()"
   ]
  },
  {
   "cell_type": "markdown",
   "id": "d6ae530c",
   "metadata": {},
   "source": [
    "#### Make API Requests"
   ]
  },
  {
   "cell_type": "markdown",
   "id": "418d5f07",
   "metadata": {},
   "source": [
    "##### Get Organization and Project Names"
   ]
  },
  {
   "cell_type": "markdown",
   "id": "a4e9c3ac",
   "metadata": {},
   "source": [
    "![](images/org_proj_name.png)"
   ]
  },
  {
   "cell_type": "markdown",
   "id": "743e6e1c",
   "metadata": {},
   "source": [
    "##### Get Organization and Project IDs from Names"
   ]
  },
  {
   "cell_type": "code",
   "execution_count": 4,
   "id": "84abb651",
   "metadata": {
    "ExecuteTime": {
     "end_time": "2025-09-02T13:52:44.725954Z",
     "start_time": "2025-09-02T13:52:44.540664Z"
    }
   },
   "outputs": [
    {
     "name": "stdout",
     "output_type": "stream",
     "text": [
      "org_id:\t\t 74127eaf-b945-4055-a688-d8e552358e03\n",
      "project_id:\t 35ed0fe6-e8b4-4d82-834d-0cb239ef24e9\n"
     ]
    }
   ],
   "source": [
    "organization = os.getenv(\"ORGANIZATION_NAME\")\n",
    "project = os.getenv(\"PROJECT_NAME\")\n",
    "\n",
    "# Input desired API here\n",
    "api = f\"/v1/admin/customers/{customer_id}/organizations/projects\"\n",
    "\n",
    "# Call API function\n",
    "response = make_api_request(api, token=jwt_token, method=\"GET\", data=None, params=None)\n",
    "response_dict = json.loads(json.dumps(response))\n",
    "\n",
    "# Extract Org ID\n",
    "org_info = [org for org in response_dict[\"organizations\"] if org.get('organization_name') == organization]\n",
    "org_id = org_info[0]['organization_id']\n",
    "\n",
    "# Extract Project ID\n",
    "project_id = [proj.get('project_id') for proj in org_info[0].get('projects') if proj.get('project_name') == project][0]\n",
    "\n",
    "# Print Output\n",
    "print('org_id:\\t\\t', org_id)\n",
    "print('project_id:\\t', project_id)"
   ]
  },
  {
   "metadata": {},
   "cell_type": "markdown",
   "source": "",
   "id": "128ae4bf8306e888"
  },
  {
   "cell_type": "markdown",
   "id": "bcc8a426",
   "metadata": {},
   "source": [
    "### Create LLM Endpoint"
   ]
  },
  {
   "metadata": {},
   "cell_type": "markdown",
   "source": [
    "![](images/_configure.png)\n",
    "![](images/_base_url.png)\n",
    "![](images/_headers.png)"
   ],
   "id": "217f3186f8742260"
  },
  {
   "cell_type": "code",
   "execution_count": 5,
   "id": "5c690646",
   "metadata": {
    "ExecuteTime": {
     "end_time": "2025-09-02T13:52:46.111318Z",
     "start_time": "2025-09-02T13:52:44.735187Z"
    }
   },
   "outputs": [
    {
     "name": "stdout",
     "output_type": "stream",
     "text": [
      "resource_instance_id:\t ab80cb79-f27f-425e-95ff-f20710c260cf\n"
     ]
    }
   ],
   "source": [
    "AZURE_OPENAI_API_KEY = os.getenv(\"AZURE_OPENAI_KEY\")\n",
    "\n",
    "api = f\"/v1/inventory/customer/{customer_id}/resources\"\n",
    "method = \"POST\"\n",
    "\n",
    "data = {\n",
    "  \"resources\": [\n",
    "    {\n",
    "      \"resource_type\": \"CustomLlmEndpoint\",\n",
    "      \"resource_data\": {\n",
    "        \"api_key\": AZURE_OPENAI_API_KEY,\n",
    "        \"endpoint_identifier\": \"Airline Azure OpenAI 1 Proxy\",\n",
    "        \"type\": \"custom\",\n",
    "        \"pentest_connection_details\": {\n",
    "          \"pentest_url\": \"https://api.8951b5a1.prod.alltrue-be.com/custom/openai/deployments/gpt-35-turbo/chat/completions?api-version=2024-10-21\",\n",
    "          \"method\": \"POST\",\n",
    "          \"body\": {\n",
    "            \"model\": \"gpt-35-turbo\",\n",
    "            \"messages\": [\n",
    "              {\n",
    "                \"role\": \"user\",\n",
    "                \"content\": \"<<PROMPT>>\"\n",
    "              }\n",
    "            ]\n",
    "          },\n",
    "          \"headers\": {\n",
    "            \"x-alltrue-llm-endpoint-identifier\": \"Airline Azure OpenAI 1\",\n",
    "            \"x-alltrue-llm-base-url\": \"https://ai-hui6981ai199195655194.openai.azure.com\",\n",
    "            \"x-alltrue-llm-proxy-type\": \"azure-openai\",\n",
    "            \"x-alltrue-llm-path-matchers\": \"[\\\".*\\\"]\",\n",
    "            \"x-alltrue-llm-domain-matchers\": \"[\\\".*\\\"]\",\n",
    "            \"api-key\": AZURE_OPENAI_API_KEY\n",
    "          },\n",
    "          \"response_jsonpaths\": [\n",
    "            \"$.choices[0].message.content\"\n",
    "          ],\n",
    "          \"response_type\": \"json\",\n",
    "          \"response_error_values\": [\n",
    "            \"Internal Error\"\n",
    "          ],\n",
    "          \"customer_scripts\": []\n",
    "        }\n",
    "      },\n",
    "      \"project_ids\": [\n",
    "        project_id\n",
    "      ],\n",
    "      \"technology_types\": [\n",
    "        \"custom-llm-endpoint\"\n",
    "      ]\n",
    "    }\n",
    "  ]\n",
    "}\n",
    "\n",
    "# Call Create Resource Endpoint\n",
    "response = make_api_request(api, token=jwt_token, method=method, data=data, params=None)\n",
    "resource_instance_id = response[\"added_resources\"][0][\"resource_instance_id\"]\n",
    "print('resource_instance_id:\\t', resource_instance_id)"
   ]
  },
  {
   "cell_type": "markdown",
   "id": "351204dd",
   "metadata": {},
   "source": [
    "### Retrieve Scan Template ID"
   ]
  },
  {
   "cell_type": "markdown",
   "id": "bd1ff46c",
   "metadata": {},
   "source": [
    "##### Get Template Name"
   ]
  },
  {
   "cell_type": "markdown",
   "id": "dd468cf5",
   "metadata": {},
   "source": [
    "![](images/template_name.png)"
   ]
  },
  {
   "cell_type": "code",
   "execution_count": 6,
   "id": "0d8fb130",
   "metadata": {
    "ExecuteTime": {
     "end_time": "2025-09-02T13:52:47.180621Z",
     "start_time": "2025-09-02T13:52:46.128158Z"
    }
   },
   "outputs": [
    {
     "name": "stdout",
     "output_type": "stream",
     "text": [
      "4a550ae4-a7b2-42fe-9e3c-4b0f3be5c375\n"
     ]
    }
   ],
   "source": [
    "template_name = 'Do Anything Now'\n",
    "\n",
    "api = f\"/v2/llm-pentest/customer/{customer_id}/templates\"\n",
    "\n",
    "method = \"GET\"\n",
    "response = make_api_request(api, token=jwt_token, method=method, data=None, params=None)\n",
    "\n",
    "template_id=[template[\"llm_pentest_scan_template_id\"] for template in response[\"llm_pentest_scan_templates\"] if template[\"name\"] == template_name][0]\n",
    "print(template_id)"
   ]
  },
  {
   "cell_type": "markdown",
   "id": "ed82262b",
   "metadata": {},
   "source": [
    "### Run Pentest"
   ]
  },
  {
   "cell_type": "code",
   "execution_count": 7,
   "id": "963fefae",
   "metadata": {
    "ExecuteTime": {
     "end_time": "2025-09-02T13:52:47.641463Z",
     "start_time": "2025-09-02T13:52:47.192991Z"
    }
   },
   "outputs": [
    {
     "name": "stdout",
     "output_type": "stream",
     "text": [
      "{\n",
      "    \"job_id\": \"64103a7f-1fd5-4b66-a14a-9cc927f90122\",\n",
      "    \"report_job_id\": \"fbeefeb9-480d-43cb-bbad-bf565333716c\",\n",
      "    \"status\": \"RUNNING\",\n",
      "    \"llm_pentest_scan_execution_id\": \"46090eb6-a190-46ee-b5ff-a25b7839d103\"\n",
      "}\n"
     ]
    }
   ],
   "source": [
    "api = f\"/v2/llm-pentest/customer/{customer_id}/start-pentest\"\n",
    "method = \"POST\"\n",
    "data = {\n",
    "    \"resource_instance_id\": resource_instance_id,\n",
    "    \"llm_pentest_scan_template_id\": template_id,\n",
    "    \"description\": \"CI-triggered pentest\",\n",
    "    \"pentest_connection_details\": {}\n",
    "}\n",
    "\n",
    "response = make_api_request(api, token=jwt_token, method=method, data=data)\n",
    "job_id = response[\"job_id\"]\n",
    "llm_pentest_scan_execution_id = response[\"llm_pentest_scan_execution_id\"]\n",
    "\n",
    "print(json.dumps(response, indent=4))"
   ]
  },
  {
   "cell_type": "markdown",
   "id": "6c118450",
   "metadata": {},
   "source": [
    "### Wait for Pentest to Complete"
   ]
  },
  {
   "cell_type": "code",
   "execution_count": 8,
   "id": "990cebd3",
   "metadata": {
    "ExecuteTime": {
     "end_time": "2025-09-02T13:55:07.439761Z",
     "start_time": "2025-09-02T13:52:47.647245Z"
    }
   },
   "outputs": [
    {
     "name": "stdout",
     "output_type": "stream",
     "text": [
      "RUNNING\n",
      "RUNNING\n",
      "RUNNING\n",
      "RUNNING\n",
      "RUNNING\n",
      "RUNNING\n",
      "RUNNING\n",
      "RUNNING\n",
      "RUNNING\n",
      "RUNNING\n",
      "RUNNING\n",
      "RUNNING\n",
      "RUNNING\n",
      "RUNNING\n",
      "RUNNING\n",
      "RUNNING\n",
      "RUNNING\n",
      "RUNNING\n",
      "RUNNING\n",
      "RUNNING\n",
      "RUNNING\n",
      "RUNNING\n",
      "RUNNING\n",
      "RUNNING\n",
      "RUNNING\n",
      "RUNNING\n",
      "RUNNING\n",
      "RUNNING\n",
      "RUNNING\n",
      "RUNNING\n",
      "RUNNING\n",
      "RUNNING\n",
      "RUNNING\n",
      "RUNNING\n",
      "RUNNING\n",
      "RUNNING\n",
      "RUNNING\n",
      "RUNNING\n",
      "RUNNING\n",
      "RUNNING\n",
      "RUNNING\n",
      "RUNNING\n",
      "RUNNING\n",
      "RUNNING\n",
      "RUNNING\n",
      "RUNNING\n",
      "RUNNING\n",
      "RUNNING\n",
      "RUNNING\n",
      "RUNNING\n",
      "RUNNING\n",
      "RUNNING\n",
      "RUNNING\n",
      "RUNNING\n",
      "RUNNING\n",
      "RUNNING\n",
      "RUNNING\n",
      "RUNNING\n",
      "RUNNING\n",
      "RUNNING\n",
      "RUNNING\n",
      "RUNNING\n",
      "RUNNING\n",
      "RUNNING\n",
      "RUNNING\n",
      "RUNNING\n",
      "RUNNING\n",
      "RUNNING\n",
      "RUNNING\n",
      "RUNNING\n",
      "RUNNING\n",
      "RUNNING\n",
      "RUNNING\n",
      "RUNNING\n",
      "RUNNING\n",
      "RUNNING\n",
      "RUNNING\n",
      "RUNNING\n",
      "RUNNING\n",
      "RUNNING\n",
      "RUNNING\n",
      "RUNNING\n",
      "RUNNING\n",
      "RUNNING\n",
      "RUNNING\n",
      "RUNNING\n",
      "RUNNING\n",
      "RUNNING\n",
      "RUNNING\n",
      "RUNNING\n",
      "RUNNING\n",
      "RUNNING\n",
      "RUNNING\n",
      "RUNNING\n",
      "RUNNING\n",
      "RUNNING\n",
      "RUNNING\n",
      "RUNNING\n",
      "RUNNING\n",
      "RUNNING\n",
      "RUNNING\n",
      "RUNNING\n",
      "RUNNING\n",
      "RUNNING\n",
      "RUNNING\n",
      "RUNNING\n",
      "RUNNING\n",
      "RUNNING\n",
      "COMPLETED\n"
     ]
    }
   ],
   "source": [
    "status = 'RUNNING'\n",
    "\n",
    "while status == 'RUNNING':\n",
    "    api = f\"/v2/llm-pentest/job-status/{job_id}\"\n",
    "    method = \"GET\"\n",
    "    response = make_api_request(api, token=jwt_token, method=method, data=None, params=None)\n",
    "    status = response[\"status\"]\n",
    "    print(status)\n",
    "    time.sleep(1)"
   ]
  },
  {
   "cell_type": "markdown",
   "id": "d727f709",
   "metadata": {},
   "source": "### Download CSV Report"
  },
  {
   "cell_type": "code",
   "execution_count": 9,
   "id": "6ba8c882",
   "metadata": {
    "ExecuteTime": {
     "end_time": "2025-09-02T13:55:07.690655Z",
     "start_time": "2025-09-02T13:55:07.481033Z"
    }
   },
   "outputs": [
    {
     "name": "stdout",
     "output_type": "stream",
     "text": [
      "CSV saved successfully!\n"
     ]
    }
   ],
   "source": [
    "endpoint = f\"/v2/llm-pentest/customer/{customer_id}/executions/{llm_pentest_scan_execution_id}/download-csv\"\n",
    "method = \"POST\"\n",
    "\n",
    "\n",
    "def download_csv(endpoint, token: str, method=\"GET\",  data=None, params=None):\n",
    "    headers = {\n",
    "        \"Authorization\": f\"Bearer {token}\",\n",
    "        \"Content-Type\": \"application/json\"\n",
    "    }\n",
    "    url = f\"{api_url}{endpoint}\"\n",
    "\n",
    "    response = requests.request(method, url, headers=headers, params=params, json=data)\n",
    "    # Check if the request was successful\n",
    "    if response.status_code == 200:\n",
    "\n",
    "        with open(f'{time.time()}.csv', \"wb\") as f:\n",
    "            f.write(response.content)\n",
    "        print(\"CSV saved successfully!\")\n",
    "    else:\n",
    "        print(f\"Error: {response.status_code} - {response.text}\")\n",
    "\n",
    "\n",
    "# Call Download CSV Endpoint\n",
    "download_csv(endpoint, token=jwt_token, method=method, data=None, params=None)"
   ]
  }
 ],
 "metadata": {
  "celltoolbar": "Slideshow",
  "kernelspec": {
   "display_name": "Python 3 (ipykernel)",
   "language": "python",
   "name": "python3"
  },
  "language_info": {
   "codemirror_mode": {
    "name": "ipython",
    "version": 3
   },
   "file_extension": ".py",
   "mimetype": "text/x-python",
   "name": "python",
   "nbconvert_exporter": "python",
   "pygments_lexer": "ipython3",
   "version": "3.11.9"
  }
 },
 "nbformat": 4,
 "nbformat_minor": 5
}
