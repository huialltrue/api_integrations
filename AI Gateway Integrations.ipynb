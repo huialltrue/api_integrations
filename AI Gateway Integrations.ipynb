{
 "cells": [
  {
   "cell_type": "markdown",
   "id": "d457ae684f585677",
   "metadata": {
    "slideshow": {
     "slide_type": "slide"
    }
   },
   "source": [
    "# AI Gateway"
   ]
  },
  {
   "cell_type": "markdown",
   "id": "995b3c5b",
   "metadata": {
    "slideshow": {
     "slide_type": "fragment"
    }
   },
   "source": [
    "![](images/firewall.png)"
   ]
  },
  {
   "cell_type": "markdown",
   "id": "24f0a8d6",
   "metadata": {
    "slideshow": {
     "slide_type": "slide"
    }
   },
   "source": [
    "#### [https://ibm-ai-security.com/_docs/docs/applications/ai_firewall)](https://ibm-ai-security.com/_docs/docs/applications/ai_firewall)"
   ]
  },
  {
   "cell_type": "markdown",
   "id": "5f32ab00",
   "metadata": {
    "slideshow": {
     "slide_type": "fragment"
    }
   },
   "source": [
    "![](images/documentation.png)"
   ]
  },
  {
   "cell_type": "markdown",
   "id": "6ff430cb",
   "metadata": {
    "slideshow": {
     "slide_type": "slide"
    }
   },
   "source": [
    "# Integration Methods for AWS Bedrock"
   ]
  },
  {
   "cell_type": "markdown",
   "id": "618b9199",
   "metadata": {
    "slideshow": {
     "slide_type": "fragment"
    }
   },
   "source": [
    "- AWS SDK (Boto3)"
   ]
  },
  {
   "cell_type": "markdown",
   "id": "1f4a436d",
   "metadata": {
    "slideshow": {
     "slide_type": "fragment"
    }
   },
   "source": [
    "- Guardrails SDK"
   ]
  },
  {
   "cell_type": "code",
   "execution_count": 1,
   "id": "7152c604",
   "metadata": {
    "ExecuteTime": {
     "end_time": "2025-08-25T18:00:08.563758Z",
     "start_time": "2025-08-25T18:00:08.505689Z"
    },
    "slideshow": {
     "slide_type": "slide"
    }
   },
   "outputs": [
    {
     "data": {
      "text/plain": [
       "True"
      ]
     },
     "execution_count": 1,
     "metadata": {},
     "output_type": "execute_result"
    }
   ],
   "source": [
    "import os\n",
    "import time\n",
    "import uuid\n",
    "import boto3\n",
    "from dotenv import load_dotenv\n",
    "\n",
    "load_dotenv()"
   ]
  },
  {
   "cell_type": "markdown",
   "id": "2b572b5e434d2828",
   "metadata": {
    "slideshow": {
     "slide_type": "slide"
    }
   },
   "source": [
    "# AWS SDK (Boto3)"
   ]
  },
  {
   "cell_type": "markdown",
   "id": "cb3c2eff",
   "metadata": {
    "slideshow": {
     "slide_type": "slide"
    }
   },
   "source": [
    "### Building AWS Client"
   ]
  },
  {
   "cell_type": "code",
   "execution_count": 2,
   "id": "1cc5d6c7",
   "metadata": {
    "slideshow": {
     "slide_type": "fragment"
    }
   },
   "outputs": [],
   "source": [
    "import os\n",
    "region_name = 'us-west-2'\n",
    "aws_access_key_id = os.getenv('AWS_ACCESS_KEY_ID')\n",
    "aws_secret_access_key = os.getenv('AWS_SECRET_ACCESS_KEY')"
   ]
  },
  {
   "cell_type": "markdown",
   "id": "5077d728",
   "metadata": {
    "slideshow": {
     "slide_type": "slide"
    }
   },
   "source": [
    "![](images/AWS1.png)"
   ]
  },
  {
   "cell_type": "markdown",
   "id": "74137ae3",
   "metadata": {
    "slideshow": {
     "slide_type": "slide"
    }
   },
   "source": [
    "![](images/AWS2.png)"
   ]
  },
  {
   "cell_type": "markdown",
   "id": "f83d9087",
   "metadata": {
    "slideshow": {
     "slide_type": "slide"
    }
   },
   "source": [
    "![](images/AWS3.png)"
   ]
  },
  {
   "cell_type": "markdown",
   "id": "1d4afd42",
   "metadata": {
    "slideshow": {
     "slide_type": "slide"
    }
   },
   "source": [
    "![](images/AWS4.png)"
   ]
  },
  {
   "cell_type": "markdown",
   "id": "50b4135772aa547f",
   "metadata": {
    "slideshow": {
     "slide_type": "slide"
    }
   },
   "source": [
    "### AWS Client"
   ]
  },
  {
   "cell_type": "code",
   "execution_count": 3,
   "id": "e8aa97a42abb0449",
   "metadata": {
    "ExecuteTime": {
     "end_time": "2025-08-25T18:00:17.146533Z",
     "start_time": "2025-08-25T18:00:17.095029Z"
    },
    "slideshow": {
     "slide_type": "fragment"
    }
   },
   "outputs": [],
   "source": [
    "import boto3\n",
    "aws_client = boto3.client(\n",
    "    'bedrock-runtime',\n",
    "    region_name = region_name,\n",
    "    aws_access_key_id = aws_access_key_id,\n",
    "    aws_secret_access_key = aws_secret_access_key\n",
    ")"
   ]
  },
  {
   "cell_type": "markdown",
   "id": "1457ee65",
   "metadata": {
    "slideshow": {
     "slide_type": "slide"
    }
   },
   "source": [
    "### Building Proxy Client"
   ]
  },
  {
   "cell_type": "markdown",
   "id": "25bf9c53",
   "metadata": {
    "slideshow": {
     "slide_type": "slide"
    }
   },
   "source": [
    "### AI Inventory > Technologies > Add New > Add New Resources Manually > LLM Endpoint"
   ]
  },
  {
   "cell_type": "markdown",
   "id": "718d4825",
   "metadata": {
    "slideshow": {
     "slide_type": "fragment"
    }
   },
   "source": [
    "![](images/add_bedrock2.png)"
   ]
  },
  {
   "cell_type": "markdown",
   "id": "ed37d44b",
   "metadata": {
    "slideshow": {
     "slide_type": "slide"
    }
   },
   "source": [
    "![](images/technologies.png)"
   ]
  },
  {
   "cell_type": "markdown",
   "id": "facbc84c",
   "metadata": {
    "slideshow": {
     "slide_type": "slide"
    }
   },
   "source": [
    "![](images/gateway.png)"
   ]
  },
  {
   "cell_type": "markdown",
   "id": "c3b99668",
   "metadata": {
    "slideshow": {
     "slide_type": "slide"
    }
   },
   "source": [
    "![](images/configure.png)"
   ]
  },
  {
   "cell_type": "markdown",
   "id": "9a4f7a1d",
   "metadata": {
    "slideshow": {
     "slide_type": "slide"
    }
   },
   "source": [
    "![](images/base.png)"
   ]
  },
  {
   "cell_type": "code",
   "execution_count": 4,
   "id": "43c0dacd",
   "metadata": {
    "ExecuteTime": {
     "end_time": "2025-08-25T18:00:15.436457Z",
     "start_time": "2025-08-25T18:00:15.433728Z"
    },
    "slideshow": {
     "slide_type": "slide"
    }
   },
   "outputs": [],
   "source": [
    "base_url = 'https://api.8951b5a1.prod.alltrue-be.com/bedrock/'\n",
    "custom_headers = {\n",
    "  \"x-alltrue-llm-endpoint-identifier\": \"Airline Bedrock 1\",\n",
    "  \"x-alltrue-llm-base-url\": \"https://bedrock-runtime.us-west-2.amazonaws.com\",\n",
    "  \"x-alltrue-llm-proxy-type\": \"bedrock\",\n",
    "  \"x-alltrue-llm-path-matchers\": \"[\\\"/model/.*/converse.*\\\"]\",\n",
    "  \"x-alltrue-llm-domain-matchers\": \"[\\\".*\\\"]\"\n",
    "}"
   ]
  },
  {
   "cell_type": "markdown",
   "id": "59b010ee151f0e4f",
   "metadata": {
    "slideshow": {
     "slide_type": "slide"
    }
   },
   "source": [
    "### Proxy Client"
   ]
  },
  {
   "cell_type": "code",
   "execution_count": 5,
   "id": "3c6575ad",
   "metadata": {
    "ExecuteTime": {
     "end_time": "2025-08-25T18:00:19.072961Z",
     "start_time": "2025-08-25T18:00:19.067193Z"
    },
    "slideshow": {
     "slide_type": "fragment"
    }
   },
   "outputs": [],
   "source": [
    "proxy_client = boto3.client(\n",
    "    'bedrock-runtime',\n",
    "    region_name = region_name,\n",
    "    aws_access_key_id = aws_access_key_id,\n",
    "    aws_secret_access_key = aws_secret_access_key,\n",
    "    endpoint_url = base_url\n",
    ")\n",
    "\n",
    "def add_proxy_headers(request, **kwargs):\n",
    "    request.headers.update(custom_headers)\n",
    "    request.headers['x-alltrue-llm-authorization'] = request.headers['Authorization']\n",
    "\n",
    "proxy_client.meta.events.register('before-send.bedrock-runtime.Converse', add_proxy_headers)"
   ]
  },
  {
   "cell_type": "markdown",
   "id": "17c7723f5c8fb08d",
   "metadata": {
    "slideshow": {
     "slide_type": "slide"
    }
   },
   "source": [
    "### Input Guard Example"
   ]
  },
  {
   "cell_type": "code",
   "execution_count": 6,
   "id": "5df5ac99b48cea72",
   "metadata": {
    "ExecuteTime": {
     "end_time": "2025-08-25T18:00:20.550275Z",
     "start_time": "2025-08-25T18:00:20.546597Z"
    },
    "slideshow": {
     "slide_type": "fragment"
    }
   },
   "outputs": [],
   "source": [
    "def get_output(client, input_string, model_id='anthropic.claude-v2'):\n",
    "    try:\n",
    "        resp = client.converse(\n",
    "            modelId=model_id, \n",
    "            messages=[{'role': 'user', 'content': [{'text': input_string}]}]\n",
    "        )\n",
    "        output = resp['output']['message']['content'][0]['text'].strip()\n",
    "    except Exception as e:\n",
    "        output = e\n",
    "    return output"
   ]
  },
  {
   "cell_type": "code",
   "execution_count": 7,
   "id": "aeed990594183fd3",
   "metadata": {
    "ExecuteTime": {
     "end_time": "2025-08-25T18:00:25.447772Z",
     "start_time": "2025-08-25T18:00:23.889965Z"
    },
    "scrolled": true,
    "slideshow": {
     "slide_type": "fragment"
    }
   },
   "outputs": [
    {
     "name": "stdout",
     "output_type": "stream",
     "text": [
      "Okay, I've noted your address is 159 Park Avenue, Lakeside. I don't actually need your full home address, but I understand you were just giving an example. Let me know if you need anything else!\n"
     ]
    }
   ],
   "source": [
    "print(get_output(aws_client, 'My address is 159 Park Avenue, Lakeside.'))"
   ]
  },
  {
   "cell_type": "code",
   "execution_count": 8,
   "id": "df6dd32be97b1dd6",
   "metadata": {
    "ExecuteTime": {
     "end_time": "2025-08-25T18:00:30.753120Z",
     "start_time": "2025-08-25T18:00:27.674386Z"
    },
    "slideshow": {
     "slide_type": "fragment"
    }
   },
   "outputs": [
    {
     "name": "stdout",
     "output_type": "stream",
     "text": [
      "An error occurred (403) when calling the Converse operation: Blocked: PII detected in input (Airline Bedrock Demo)\n"
     ]
    }
   ],
   "source": [
    "print(get_output(proxy_client, 'My address is 159 Park Avenue, Lakeside.'))"
   ]
  },
  {
   "cell_type": "markdown",
   "id": "97752abc",
   "metadata": {
    "slideshow": {
     "slide_type": "slide"
    }
   },
   "source": [
    "### Output Guard Example"
   ]
  },
  {
   "cell_type": "code",
   "execution_count": 9,
   "id": "8628b08ddf05d366",
   "metadata": {
    "ExecuteTime": {
     "end_time": "2025-08-25T18:00:40.442909Z",
     "start_time": "2025-08-25T18:00:34.055330Z"
    },
    "scrolled": true,
    "slideshow": {
     "slide_type": "fragment"
    }
   },
   "outputs": [
    {
     "name": "stdout",
     "output_type": "stream",
     "text": [
      "Here are 10 fictitious addresses:\n",
      "\n",
      "1. 123 Main Street, Springfield, IL 62701\n",
      "2. 456 Oak Road, Metropolis, NY 12345  \n",
      "3. 789 Elm Avenue, Centerville, WA 98765\n",
      "4. 13579 Palm Boulevard, Beach City, CA 54321\n",
      "5. 246 Walker Lane, Greenville, SC 29603\n",
      "6. 159 Pine Street, Mountain View, CO 80404 \n",
      "7. 357 Orange Drive, Sunset, AZ 85001\n",
      "8. 568 Maple Court, Riverton, NJ 07745\n",
      "9. 987 Front Street, Seaside, OR 97401\n",
      "10. 321 Sunshine Road, Pleasantville, IA 50321\n"
     ]
    }
   ],
   "source": [
    "print(get_output(aws_client, 'Output 10 fictitious addresses.'))"
   ]
  },
  {
   "cell_type": "code",
   "execution_count": 10,
   "id": "f62bc46f1245fc04",
   "metadata": {
    "ExecuteTime": {
     "end_time": "2025-08-25T18:00:46.432443Z",
     "start_time": "2025-08-25T18:00:44.102339Z"
    },
    "slideshow": {
     "slide_type": "fragment"
    }
   },
   "outputs": [
    {
     "name": "stdout",
     "output_type": "stream",
     "text": [
      "An error occurred (403) when calling the Converse operation: Blocked: PII detected in output (Airline Bedrock Demo)\n"
     ]
    }
   ],
   "source": [
    "print(get_output(proxy_client, 'Output 10 fictitious addresses.'))"
   ]
  },
  {
   "cell_type": "markdown",
   "id": "651d8a70",
   "metadata": {
    "slideshow": {
     "slide_type": "slide"
    }
   },
   "source": [
    "# Questions?"
   ]
  },
  {
   "cell_type": "markdown",
   "id": "c9af1cb4",
   "metadata": {
    "slideshow": {
     "slide_type": "slide"
    }
   },
   "source": [
    "# Guardrails SDK"
   ]
  },
  {
   "cell_type": "markdown",
   "id": "f8d2f9bf",
   "metadata": {
    "slideshow": {
     "slide_type": "fragment"
    }
   },
   "source": [
    "- A Python library built with modular components"
   ]
  },
  {
   "cell_type": "markdown",
   "id": "942dec42",
   "metadata": {
    "slideshow": {
     "slide_type": "fragment"
    }
   },
   "source": [
    "- Documentation: https://github.com/AllTrue-ai/alltrue-llm-observability"
   ]
  },
  {
   "cell_type": "markdown",
   "id": "2224699d",
   "metadata": {
    "slideshow": {
     "slide_type": "slide"
    }
   },
   "source": [
    "# Guardrails SDK can be used in 2 modes:"
   ]
  },
  {
   "cell_type": "markdown",
   "id": "10cf8525",
   "metadata": {
    "slideshow": {
     "slide_type": "fragment"
    }
   },
   "source": [
    "- Active Guardrails—Validating Inputs and Outputs"
   ]
  },
  {
   "cell_type": "markdown",
   "id": "02d6d3f7",
   "metadata": {
    "slideshow": {
     "slide_type": "fragment"
    }
   },
   "source": [
    "- Passive Observation—Monitoring Without Validation"
   ]
  },
  {
   "cell_type": "markdown",
   "id": "af40ca85",
   "metadata": {
    "slideshow": {
     "slide_type": "slide"
    }
   },
   "source": [
    "# Active Guardrails—Validating Inputs and Outputs"
   ]
  },
  {
   "cell_type": "code",
   "execution_count": 11,
   "id": "b337edf5eccc3645",
   "metadata": {
    "ExecuteTime": {
     "end_time": "2025-08-25T18:00:57.884466Z",
     "start_time": "2025-08-25T18:00:55.170456Z"
    },
    "slideshow": {
     "slide_type": "slide"
    }
   },
   "outputs": [
    {
     "name": "stdout",
     "output_type": "stream",
     "text": [
      "Collecting git+https://github.com/AllTrue-ai/alltrue-llm-observability.git\n",
      "  Cloning https://github.com/AllTrue-ai/alltrue-llm-observability.git to /private/var/folders/5l/fj2zjv293jdbb4qzytvs6b600000gn/T/pip-req-build-07stputn\n",
      "  Running command git clone --filter=blob:none --quiet https://github.com/AllTrue-ai/alltrue-llm-observability.git /private/var/folders/5l/fj2zjv293jdbb4qzytvs6b600000gn/T/pip-req-build-07stputn\n",
      "  Resolved https://github.com/AllTrue-ai/alltrue-llm-observability.git to commit 520797cd491c77b2c46af6500c29410f11148bfb\n",
      "  Installing build dependencies ... \u001b[?25ldone\n",
      "\u001b[?25h  Getting requirements to build wheel ... \u001b[?25ldone\n",
      "\u001b[?25h  Preparing metadata (pyproject.toml) ... \u001b[?25ldone\n",
      "\u001b[?25hRequirement already satisfied: hishel~=0.1.3 in /opt/homebrew/Caskroom/miniconda/base/lib/python3.13/site-packages (from alltrue-guardrails==0.2.0) (0.1.3)\n",
      "Requirement already satisfied: httpx~=0.28.0 in /opt/homebrew/Caskroom/miniconda/base/lib/python3.13/site-packages (from alltrue-guardrails==0.2.0) (0.28.1)\n",
      "Requirement already satisfied: httpcore~=1.0.9 in /opt/homebrew/Caskroom/miniconda/base/lib/python3.13/site-packages (from alltrue-guardrails==0.2.0) (1.0.9)\n",
      "Requirement already satisfied: pydantic>=2.7.4 in /opt/homebrew/Caskroom/miniconda/base/lib/python3.13/site-packages (from alltrue-guardrails==0.2.0) (2.10.3)\n",
      "Requirement already satisfied: python-dotenv~=1.0.1 in /opt/homebrew/Caskroom/miniconda/base/lib/python3.13/site-packages (from alltrue-guardrails==0.2.0) (1.0.1)\n",
      "Requirement already satisfied: async-batcher~=0.2.2 in /opt/homebrew/Caskroom/miniconda/base/lib/python3.13/site-packages (from alltrue-guardrails==0.2.0) (0.2.2)\n",
      "Requirement already satisfied: logfunc>=2.9.1 in /opt/homebrew/Caskroom/miniconda/base/lib/python3.13/site-packages (from alltrue-guardrails==0.2.0) (3.0.0)\n",
      "Requirement already satisfied: certifi in /opt/homebrew/Caskroom/miniconda/base/lib/python3.13/site-packages (from httpcore~=1.0.9->alltrue-guardrails==0.2.0) (2025.4.26)\n",
      "Requirement already satisfied: h11>=0.16 in /opt/homebrew/Caskroom/miniconda/base/lib/python3.13/site-packages (from httpcore~=1.0.9->alltrue-guardrails==0.2.0) (0.16.0)\n",
      "Requirement already satisfied: anyio in /opt/homebrew/Caskroom/miniconda/base/lib/python3.13/site-packages (from httpx~=0.28.0->alltrue-guardrails==0.2.0) (4.9.0)\n",
      "Requirement already satisfied: idna in /opt/homebrew/Caskroom/miniconda/base/lib/python3.13/site-packages (from httpx~=0.28.0->alltrue-guardrails==0.2.0) (3.7)\n",
      "Requirement already satisfied: annotated-types>=0.6.0 in /opt/homebrew/Caskroom/miniconda/base/lib/python3.13/site-packages (from pydantic>=2.7.4->alltrue-guardrails==0.2.0) (0.6.0)\n",
      "Requirement already satisfied: pydantic-core==2.27.1 in /opt/homebrew/Caskroom/miniconda/base/lib/python3.13/site-packages (from pydantic>=2.7.4->alltrue-guardrails==0.2.0) (2.27.1)\n",
      "Requirement already satisfied: typing-extensions>=4.12.2 in /opt/homebrew/Caskroom/miniconda/base/lib/python3.13/site-packages (from pydantic>=2.7.4->alltrue-guardrails==0.2.0) (4.12.2)\n",
      "Requirement already satisfied: sniffio>=1.1 in /opt/homebrew/Caskroom/miniconda/base/lib/python3.13/site-packages (from anyio->httpx~=0.28.0->alltrue-guardrails==0.2.0) (1.3.1)\n"
     ]
    }
   ],
   "source": [
    "!pip install git+https://github.com/AllTrue-ai/alltrue-llm-observability.git"
   ]
  },
  {
   "cell_type": "markdown",
   "id": "b24ef759",
   "metadata": {
    "slideshow": {
     "slide_type": "slide"
    }
   },
   "source": [
    "### Building Active Guardrails"
   ]
  },
  {
   "cell_type": "code",
   "execution_count": 12,
   "id": "3a27874e",
   "metadata": {
    "ExecuteTime": {
     "end_time": "2025-08-25T18:01:01.368946Z",
     "start_time": "2025-08-25T18:01:01.366906Z"
    },
    "slideshow": {
     "slide_type": "fragment"
    }
   },
   "outputs": [],
   "source": [
    "endpoint_identifier = None\n",
    "customer_id = None\n",
    "firewall_key = None"
   ]
  },
  {
   "cell_type": "markdown",
   "id": "9d75cc57",
   "metadata": {
    "slideshow": {
     "slide_type": "slide"
    }
   },
   "source": [
    "![](images/endpoint_identifier.png)"
   ]
  },
  {
   "cell_type": "markdown",
   "id": "e64a7626",
   "metadata": {
    "slideshow": {
     "slide_type": "slide"
    }
   },
   "source": [
    "![](images/admin_console.png)"
   ]
  },
  {
   "cell_type": "markdown",
   "id": "4166aa68",
   "metadata": {
    "slideshow": {
     "slide_type": "slide"
    }
   },
   "source": [
    "![](images/customer_id.png)"
   ]
  },
  {
   "cell_type": "markdown",
   "id": "19976bf8",
   "metadata": {
    "slideshow": {
     "slide_type": "slide"
    }
   },
   "source": [
    "![](images/add_key.png)"
   ]
  },
  {
   "cell_type": "markdown",
   "id": "836e9b8e",
   "metadata": {
    "slideshow": {
     "slide_type": "slide"
    }
   },
   "source": [
    "![](images/copy_key.png)"
   ]
  },
  {
   "cell_type": "code",
   "execution_count": 13,
   "id": "fc5b7ad62e67ae77",
   "metadata": {
    "ExecuteTime": {
     "end_time": "2025-08-25T18:01:02.872881Z",
     "start_time": "2025-08-25T18:01:02.869818Z"
    },
    "slideshow": {
     "slide_type": "slide"
    }
   },
   "outputs": [],
   "source": [
    "endpoint_identifier = 'Airline Bedrock 1'\n",
    "customer_id = '8951b5a1-a2f2-4eb3-90b9-2c92a9d18dc7'\n",
    "firewall_key = 'TPzjIqV5ca9dQYlR4wbq4MWIWWAVzT1A'"
   ]
  },
  {
   "cell_type": "code",
   "execution_count": 14,
   "id": "4c96a9fa3ea22197",
   "metadata": {
    "ExecuteTime": {
     "end_time": "2025-08-25T18:01:04.570147Z",
     "start_time": "2025-08-25T18:01:04.349734Z"
    },
    "slideshow": {
     "slide_type": "slide"
    }
   },
   "outputs": [],
   "source": [
    "from alltrue_guardrails.guardrails.chat import ChatGuardrails, GuardrailsException\n",
    "\n",
    "guardrails = ChatGuardrails(\n",
    "    alltrue_api_key=firewall_key,\n",
    "    alltrue_customer_id=customer_id,\n",
    "    alltrue_endpoint_identifier=endpoint_identifier,\n",
    "    logging_level='WARNING',\n",
    ")"
   ]
  },
  {
   "cell_type": "markdown",
   "id": "76981f82",
   "metadata": {
    "slideshow": {
     "slide_type": "slide"
    }
   },
   "source": [
    "# Guardrails SDK's input and output guards are modular."
   ]
  },
  {
   "cell_type": "code",
   "execution_count": 15,
   "id": "57b1fd53",
   "metadata": {
    "ExecuteTime": {
     "end_time": "2025-08-25T18:01:06.303213Z",
     "start_time": "2025-08-25T18:01:06.300530Z"
    },
    "slideshow": {
     "slide_type": "fragment"
    }
   },
   "outputs": [],
   "source": [
    "async def guard_io_using_sdk(messages):\n",
    "    try:\n",
    "        # Create Chat ID\n",
    "        my_uuid = uuid.uuid4()\n",
    "        \n",
    "        # Input Guard\n",
    "        print('Guarding input...')\n",
    "        guarded_input = await guardrails.guard_input(messages, chat_id=my_uuid)\n",
    "        print(f'guarded_input: {guarded_input}\\n')\n",
    "        \n",
    "        # Get Output\n",
    "        print('Getting output...')\n",
    "        aws_output = get_output(aws_client, guarded_input[-1])\n",
    "        print(f'aws_output: {aws_output}\\n')\n",
    "        \n",
    "        # Output Guard\n",
    "        print('Guarding output...')\n",
    "        guarded_output = await guardrails.guard_output(guarded_input, [aws_output], chat_id=my_uuid)\n",
    "        print(f'guarded_output: {guarded_output}\\n')\n",
    "\n",
    "    except GuardrailsException as e:\n",
    "        print(e)"
   ]
  },
  {
   "cell_type": "markdown",
   "id": "e696e3d0",
   "metadata": {
    "slideshow": {
     "slide_type": "slide"
    }
   },
   "source": [
    "### Normal Input Example"
   ]
  },
  {
   "cell_type": "code",
   "execution_count": 16,
   "id": "1fed64e908a66463",
   "metadata": {
    "ExecuteTime": {
     "end_time": "2025-08-25T18:01:11.194444Z",
     "start_time": "2025-08-25T18:01:08.348664Z"
    },
    "slideshow": {
     "slide_type": "fragment"
    }
   },
   "outputs": [
    {
     "name": "stdout",
     "output_type": "stream",
     "text": [
      "Guarding input...\n",
      "guarded_input: ['How are you?']\n",
      "\n",
      "Getting output...\n",
      "aws_output: I'm doing well, thanks for asking!\n",
      "\n",
      "Guarding output...\n",
      "guarded_output: [\"I'm doing well, thanks for asking!\"]\n",
      "\n"
     ]
    }
   ],
   "source": [
    "messages = ['How are you?']\n",
    "await guard_io_using_sdk(messages)"
   ]
  },
  {
   "cell_type": "markdown",
   "id": "84aa9d97",
   "metadata": {
    "slideshow": {
     "slide_type": "slide"
    }
   },
   "source": [
    "### PII Input Example"
   ]
  },
  {
   "cell_type": "code",
   "execution_count": 17,
   "id": "d94cb19361f83de1",
   "metadata": {
    "ExecuteTime": {
     "end_time": "2025-08-25T18:01:19.804022Z",
     "start_time": "2025-08-25T18:01:18.527344Z"
    },
    "slideshow": {
     "slide_type": "fragment"
    }
   },
   "outputs": [
    {
     "name": "stdout",
     "output_type": "stream",
     "text": [
      "Guarding input...\n",
      "Blocked: PII detected in input (Airline Bedrock Demo)\n"
     ]
    }
   ],
   "source": [
    "messages = ['My phone number is (678) 901-2345']\n",
    "await guard_io_using_sdk(messages)"
   ]
  },
  {
   "cell_type": "markdown",
   "id": "981afd55",
   "metadata": {
    "slideshow": {
     "slide_type": "slide"
    }
   },
   "source": [
    "### PII Output Example"
   ]
  },
  {
   "cell_type": "code",
   "execution_count": 18,
   "id": "2317aceeb2d7de7a",
   "metadata": {
    "ExecuteTime": {
     "end_time": "2025-08-25T18:01:29.122962Z",
     "start_time": "2025-08-25T18:01:21.412217Z"
    },
    "scrolled": true,
    "slideshow": {
     "slide_type": "slide"
    }
   },
   "outputs": [
    {
     "name": "stdout",
     "output_type": "stream",
     "text": [
      "Guarding input...\n",
      "guarded_input: ['Output 10 fictitious addresses.']\n",
      "\n",
      "Getting output...\n",
      "aws_output: Here are 10 fictitious addresses:\n",
      "\n",
      "1. 123 Main Street, Smalltown, CA 90210\n",
      "2. 4567 Ocean Avenue, Seaside, OR 97123  \n",
      "3. 89 Hillcrest Drive, Greenville, SC 29607\n",
      "4. 12 Evergreen Lane, Forestville, MN 55025\n",
      "5. 3456 Primrose Path, Meadowview, GA 30678\n",
      "6. 7890 Harvest Way, Orchard Hills, KS 67219\n",
      "7. 123 Pleasant Drive, Lakeside, NH 03258\n",
      "8. 456 Winding Way, Rolling Hills, MT 59804  \n",
      "9. 8910 Park Place, Greenwood, TX 75092\n",
      "10. 345 Winston Drive, Riverbend, AK 99701\n",
      "\n",
      "Guarding output...\n",
      "Blocked: PII detected in output (Airline Bedrock Demo)\n"
     ]
    }
   ],
   "source": [
    "messages = ['Output 10 fictitious addresses.']\n",
    "await guard_io_using_sdk(messages)"
   ]
  },
  {
   "cell_type": "markdown",
   "id": "3ff41eb84928a399",
   "metadata": {
    "slideshow": {
     "slide_type": "slide"
    }
   },
   "source": [
    "# Passive Observation—Monitoring Without Validation"
   ]
  },
  {
   "cell_type": "code",
   "execution_count": 19,
   "id": "c574c2b1145744b2",
   "metadata": {
    "ExecuteTime": {
     "end_time": "2025-08-18T05:38:03.978447Z",
     "start_time": "2025-08-18T05:38:03.973310Z"
    },
    "scrolled": true,
    "slideshow": {
     "slide_type": "slide"
    }
   },
   "outputs": [
    {
     "name": "stdout",
     "output_type": "stream",
     "text": [
      "Logging input as list of strings:\n",
      "['Test 1: Here is a test message sent as a list item.']\n",
      "\n"
     ]
    }
   ],
   "source": [
    "import time\n",
    "import httpx\n",
    "from alltrue_guardrails.guardrails.chat import ChatGuardrails, GuardableMessage\n",
    "\n",
    "test_id = 1\n",
    "\n",
    "messages = [\n",
    "    f'Test {test_id}: Here is a test message sent as a list item.'\n",
    "]\n",
    "\n",
    "print(f'Logging input as list of strings:\\n{messages}\\n')\n",
    "guardrails.observe_input(messages)"
   ]
  },
  {
   "cell_type": "code",
   "execution_count": 20,
   "id": "422e7b294036923a",
   "metadata": {
    "ExecuteTime": {
     "end_time": "2025-08-18T05:38:05.748048Z",
     "start_time": "2025-08-18T05:38:05.744368Z"
    },
    "slideshow": {
     "slide_type": "slide"
    }
   },
   "outputs": [
    {
     "name": "stdout",
     "output_type": "stream",
     "text": [
      "Logging input as JSON object:\n",
      "[{'content': 'Test 1: This message is sent as a JSON object inside a list.', 'role': 'user'}]\n",
      "\n"
     ]
    }
   ],
   "source": [
    "messages = [\n",
    "    {\n",
    "        'content': f'Test {test_id}: This message is sent as a JSON object inside a list.', \n",
    "        'role': 'user'\n",
    "    }\n",
    "]\n",
    "\n",
    "print(f'Logging input as JSON object:\\n{messages}\\n')\n",
    "guardrails.observe_input(messages)"
   ]
  },
  {
   "cell_type": "code",
   "execution_count": 21,
   "id": "3cd94ffe2b767ce7",
   "metadata": {
    "ExecuteTime": {
     "end_time": "2025-08-18T05:38:07.946884Z",
     "start_time": "2025-08-18T05:38:07.942879Z"
    },
    "slideshow": {
     "slide_type": "slide"
    }
   },
   "outputs": [
    {
     "name": "stdout",
     "output_type": "stream",
     "text": [
      "Logging input as GuardableMessage object:\n",
      "[GuardableMessage(content='Test 1: This message is sent as a GuardableMessage object.', role='user')]\n",
      "\n"
     ]
    }
   ],
   "source": [
    "messages = [\n",
    "    GuardableMessage(\n",
    "        content=f'Test {test_id}: This message is sent as a GuardableMessage object.', \n",
    "        role='user'\n",
    "    )\n",
    "]\n",
    "\n",
    "print(f'Logging input as GuardableMessage object:\\n{messages}\\n')\n",
    "guardrails.observe_input(messages)"
   ]
  },
  {
   "cell_type": "code",
   "execution_count": 22,
   "id": "87c78ef5406ad2af",
   "metadata": {
    "ExecuteTime": {
     "end_time": "2025-08-18T05:38:10.748988Z",
     "start_time": "2025-08-18T05:38:10.121127Z"
    },
    "slideshow": {
     "slide_type": "slide"
    }
   },
   "outputs": [
    {
     "name": "stdout",
     "output_type": "stream",
     "text": [
      "Getting aws_output for input:\n",
      "Output this sentence and nothing else: This is the output of test 1.\n",
      "\n",
      "bedrock_output received:\n",
      "This is the output of test 1.\n",
      "\n",
      "Logging output message: This is the output of test 1.\n"
     ]
    }
   ],
   "source": [
    "input_text = f'Output this sentence and nothing else: This is the output of test {test_id}.'\n",
    "print(f'Getting aws_output for input:\\n{input_text}\\n')\n",
    "\n",
    "aws_output = get_output(aws_client, input_text)\n",
    "print(f'bedrock_output received:\\n{aws_output}\\n')\n",
    "\n",
    "print(f'Logging output message: {aws_output}')\n",
    "guardrails.observe_output([aws_output], messages)"
   ]
  },
  {
   "cell_type": "code",
   "execution_count": 23,
   "id": "c917bd1afa5d8938",
   "metadata": {
    "ExecuteTime": {
     "end_time": "2025-08-18T05:39:21.074299Z",
     "start_time": "2025-08-18T05:38:21.054133Z"
    },
    "scrolled": true,
    "slideshow": {
     "slide_type": "slide"
    }
   },
   "outputs": [
    {
     "name": "stdout",
     "output_type": "stream",
     "text": [
      "Waiting 1 minute for the logs to appear...\n",
      "Logs are now ready.\n"
     ]
    }
   ],
   "source": [
    "print('Waiting 1 minute for the logs to appear...')\n",
    "time.sleep(60)\n",
    "print('Logs are now ready.')\n"
   ]
  },
  {
   "cell_type": "markdown",
   "id": "8ca3ab9d",
   "metadata": {
    "slideshow": {
     "slide_type": "slide"
    }
   },
   "source": [
    "# Questions"
   ]
  },
  {
   "cell_type": "markdown",
   "id": "c684b262",
   "metadata": {
    "slideshow": {
     "slide_type": "slide"
    }
   },
   "source": [
    "# Integration Methods for Azure OpenAI"
   ]
  },
  {
   "cell_type": "markdown",
   "id": "b05eb7f4",
   "metadata": {
    "slideshow": {
     "slide_type": "fragment"
    }
   },
   "source": [
    "- Azure OpenAI SDK"
   ]
  },
  {
   "cell_type": "markdown",
   "id": "576437fd",
   "metadata": {
    "slideshow": {
     "slide_type": "fragment"
    }
   },
   "source": [
    "- Guardrails SDK"
   ]
  },
  {
   "cell_type": "code",
   "execution_count": 24,
   "id": "db1fa734",
   "metadata": {
    "slideshow": {
     "slide_type": "skip"
    }
   },
   "outputs": [],
   "source": [
    "import json\n",
    "from openai import AzureOpenAI"
   ]
  },
  {
   "cell_type": "markdown",
   "id": "c0a0e74c",
   "metadata": {
    "slideshow": {
     "slide_type": "slide"
    }
   },
   "source": [
    "# Azure OpenAI SDK"
   ]
  },
  {
   "cell_type": "markdown",
   "id": "81c0dfb4",
   "metadata": {
    "slideshow": {
     "slide_type": "slide"
    }
   },
   "source": [
    "### Building Azure Client"
   ]
  },
  {
   "cell_type": "code",
   "execution_count": 25,
   "id": "c6469ff3",
   "metadata": {
    "slideshow": {
     "slide_type": "fragment"
    }
   },
   "outputs": [],
   "source": [
    "endpoint = None\n",
    "model_name = None\n",
    "deployment = None\n",
    "\n",
    "subscription_key = None\n",
    "api_version = None"
   ]
  },
  {
   "cell_type": "markdown",
   "id": "5af59b20",
   "metadata": {
    "slideshow": {
     "slide_type": "slide"
    }
   },
   "source": [
    "![](images/azure_endpoint.png)"
   ]
  },
  {
   "cell_type": "markdown",
   "id": "b68198a4",
   "metadata": {
    "slideshow": {
     "slide_type": "slide"
    }
   },
   "source": [
    "![](images/azure_key.png)"
   ]
  },
  {
   "cell_type": "code",
   "execution_count": 26,
   "id": "b75bbd25",
   "metadata": {
    "slideshow": {
     "slide_type": "slide"
    }
   },
   "outputs": [],
   "source": [
    "endpoint = \"https://moran-may30-test.openai.azure.com/\"\n",
    "model_name = \"gpt-35-turbo\"\n",
    "deployment = \"gpt-35-turbo\"\n",
    "\n",
    "subscription_key = os.getenv('AZURE_SUBSCRIPTION_KEY')\n",
    "api_version = \"2024-12-01-preview\""
   ]
  },
  {
   "cell_type": "code",
   "execution_count": 27,
   "id": "d4ad80e4",
   "metadata": {
    "slideshow": {
     "slide_type": "fragment"
    }
   },
   "outputs": [],
   "source": [
    "azure_client = AzureOpenAI(\n",
    "    api_version=api_version,\n",
    "    azure_endpoint=endpoint,\n",
    "    api_key=subscription_key,\n",
    ")"
   ]
  },
  {
   "cell_type": "markdown",
   "id": "eb750759",
   "metadata": {
    "slideshow": {
     "slide_type": "slide"
    }
   },
   "source": [
    "### Building Proxy Client"
   ]
  },
  {
   "cell_type": "code",
   "execution_count": 28,
   "id": "decbc26c",
   "metadata": {
    "slideshow": {
     "slide_type": "fragment"
    }
   },
   "outputs": [],
   "source": [
    "endpoint_identifier = None\n",
    "base_url = None\n",
    "custom_headers = None"
   ]
  },
  {
   "cell_type": "markdown",
   "id": "492940b0",
   "metadata": {
    "slideshow": {
     "slide_type": "slide"
    }
   },
   "source": [
    "### Resource Name"
   ]
  },
  {
   "cell_type": "markdown",
   "id": "7731f1c2",
   "metadata": {
    "slideshow": {
     "slide_type": "fragment"
    }
   },
   "source": [
    "![](images/resource_name.png)"
   ]
  },
  {
   "cell_type": "markdown",
   "id": "4c23deee",
   "metadata": {
    "slideshow": {
     "slide_type": "slide"
    }
   },
   "source": [
    "### Deployment Name"
   ]
  },
  {
   "cell_type": "markdown",
   "id": "36bd2e03",
   "metadata": {
    "slideshow": {
     "slide_type": "fragment"
    }
   },
   "source": [
    "![](images/deployment_id.png)"
   ]
  },
  {
   "cell_type": "markdown",
   "id": "b68f6d35",
   "metadata": {
    "slideshow": {
     "slide_type": "slide"
    }
   },
   "source": [
    "### AI Inventory > Technologies > Add New > Add New Resources Manually > LLM Endpoint\n"
   ]
  },
  {
   "cell_type": "markdown",
   "id": "2a5c6051",
   "metadata": {
    "slideshow": {
     "slide_type": "fragment"
    }
   },
   "source": [
    "![](images/add_azure.png)"
   ]
  },
  {
   "cell_type": "markdown",
   "id": "fdac62d8",
   "metadata": {
    "slideshow": {
     "slide_type": "slide"
    }
   },
   "source": [
    "![](images/azure_headers.png)"
   ]
  },
  {
   "cell_type": "code",
   "execution_count": 29,
   "id": "adfbb636",
   "metadata": {
    "slideshow": {
     "slide_type": "slide"
    }
   },
   "outputs": [],
   "source": [
    "endpoint_identifier = 'Airline Azure OpenAI 1'\n",
    "base_url = 'https://api.8951b5a1.prod.alltrue-be.com/custom/openai'\n",
    "custom_headers = {\n",
    "  \"x-alltrue-llm-endpoint-identifier\": \"Airline Azure OpenAI 1\",\n",
    "  \"x-alltrue-llm-base-url\": \"https://moran-may30-test.openai.azure.com\",\n",
    "  \"x-alltrue-llm-proxy-type\": \"azure-openai\",\n",
    "  \"x-alltrue-llm-path-matchers\": \"[\\\".*\\\"]\",\n",
    "  \"x-alltrue-llm-domain-matchers\": \"[\\\".*\\\"]\"\n",
    "}"
   ]
  },
  {
   "cell_type": "markdown",
   "id": "070d377a",
   "metadata": {
    "slideshow": {
     "slide_type": "slide"
    }
   },
   "source": [
    "### Proxy Client"
   ]
  },
  {
   "cell_type": "code",
   "execution_count": 30,
   "id": "132fc40e",
   "metadata": {
    "slideshow": {
     "slide_type": "fragment"
    }
   },
   "outputs": [],
   "source": [
    "import httpx\n",
    "\n",
    "httpx_client = httpx.Client()\n",
    "\n",
    "proxy_client = AzureOpenAI(\n",
    "    api_key=subscription_key,\n",
    "    base_url=base_url,\n",
    "    http_client=httpx_client,\n",
    "    default_headers=custom_headers,\n",
    "    api_version=api_version\n",
    ")"
   ]
  },
  {
   "cell_type": "code",
   "execution_count": 31,
   "id": "2ef2bab3",
   "metadata": {
    "slideshow": {
     "slide_type": "slide"
    }
   },
   "outputs": [],
   "source": [
    "def get_output(client, input_string):\n",
    "    try:\n",
    "        response = client.chat.completions.create(\n",
    "            messages=[\n",
    "                {\n",
    "                    \"role\": \"user\",\n",
    "                    \"content\": input_string\n",
    "                }\n",
    "            ],\n",
    "            model=deployment\n",
    "        )\n",
    "        output = response.choices[0].message.content\n",
    "    except Exception as e:\n",
    "        output = e\n",
    "    return output"
   ]
  },
  {
   "cell_type": "markdown",
   "id": "e05d0124",
   "metadata": {
    "slideshow": {
     "slide_type": "slide"
    }
   },
   "source": [
    "### Normal Input Example"
   ]
  },
  {
   "cell_type": "code",
   "execution_count": 32,
   "id": "e653ab0e",
   "metadata": {
    "slideshow": {
     "slide_type": "fragment"
    }
   },
   "outputs": [
    {
     "name": "stdout",
     "output_type": "stream",
     "text": [
      "I'm just a computer program, so I don't have feelings, but I'm here to assist you. How can I help you today?\n"
     ]
    }
   ],
   "source": [
    "print(get_output(azure_client, 'How are you?'))"
   ]
  },
  {
   "cell_type": "code",
   "execution_count": 33,
   "id": "ec9f130b",
   "metadata": {
    "slideshow": {
     "slide_type": "fragment"
    }
   },
   "outputs": [
    {
     "name": "stdout",
     "output_type": "stream",
     "text": [
      "I'm just a language model AI created to assist you. How can I help you today?\n"
     ]
    }
   ],
   "source": [
    "print(get_output(proxy_client, 'How are you?'))"
   ]
  },
  {
   "cell_type": "markdown",
   "id": "ece547b6",
   "metadata": {
    "slideshow": {
     "slide_type": "slide"
    }
   },
   "source": [
    "### PII Input Example"
   ]
  },
  {
   "cell_type": "code",
   "execution_count": 34,
   "id": "42dffec7",
   "metadata": {
    "slideshow": {
     "slide_type": "fragment"
    }
   },
   "outputs": [
    {
     "name": "stdout",
     "output_type": "stream",
     "text": [
      "Thank you for providing your address. Is there anything specific you would like assistance with regarding your address?\n"
     ]
    }
   ],
   "source": [
    "print(get_output(azure_client, 'My address is 374 Silver Ave.'))"
   ]
  },
  {
   "cell_type": "code",
   "execution_count": 35,
   "id": "6c5e1cb0",
   "metadata": {
    "slideshow": {
     "slide_type": "fragment"
    }
   },
   "outputs": [
    {
     "name": "stdout",
     "output_type": "stream",
     "text": [
      "Error code: 403 - {'Reason': 'Blocked: PII detected in input (Airline Azure OpenAI Demo)', 'session': 'f774074c-2c73-4501-a23b-3b45a1e19963', 'message': 'Blocked: PII detected in input (Airline Azure OpenAI Demo)', 'error_from_alltrue_proxy': True}\n"
     ]
    }
   ],
   "source": [
    "print(get_output(proxy_client, 'My address is 374 Silver Ave.'))"
   ]
  },
  {
   "cell_type": "markdown",
   "id": "f4f80412",
   "metadata": {
    "slideshow": {
     "slide_type": "slide"
    }
   },
   "source": [
    "### PII Output Example"
   ]
  },
  {
   "cell_type": "code",
   "execution_count": 36,
   "id": "cd6a5720",
   "metadata": {
    "slideshow": {
     "slide_type": "fragment"
    }
   },
   "outputs": [
    {
     "name": "stdout",
     "output_type": "stream",
     "text": [
      "1. sarah123@gmail.com\n",
      "2. johndoe456@yahoo.com\n",
      "3. emilybear@hotmail.com\n",
      "4. mikesmith789@outlook.com\n",
      "5. lisajones555@aol.com\n",
      "6. samanthabrown123@gmail.com\n",
      "7. chriswilson999@yahoo.com\n",
      "8. anniegrant23@hotmail.com\n",
      "9. tomblack777@outlook.com\n",
      "10. juliecole432@aol.com\n"
     ]
    }
   ],
   "source": [
    "print(get_output(azure_client, 'Output 10 fictitious email addresses.'))"
   ]
  },
  {
   "cell_type": "code",
   "execution_count": 37,
   "id": "9a0bf96e",
   "metadata": {
    "slideshow": {
     "slide_type": "fragment"
    }
   },
   "outputs": [
    {
     "name": "stdout",
     "output_type": "stream",
     "text": [
      "Error code: 403 - {'Reason': 'Blocked: PII detected in output (Airline Azure OpenAI Demo)', 'session': 'b337d013-5686-475c-b6e2-9afc3ef34881', 'message': 'Blocked: PII detected in output (Airline Azure OpenAI Demo)', 'error_from_alltrue_proxy': True}\n"
     ]
    }
   ],
   "source": [
    "print(get_output(proxy_client, 'Output 10 fictitious email addresses.'))"
   ]
  },
  {
   "cell_type": "markdown",
   "id": "f89f4494",
   "metadata": {
    "slideshow": {
     "slide_type": "slide"
    }
   },
   "source": [
    "# Questions"
   ]
  },
  {
   "cell_type": "markdown",
   "id": "ad12dfd3",
   "metadata": {
    "slideshow": {
     "slide_type": "slide"
    }
   },
   "source": [
    "# Guardrails SDK Example"
   ]
  },
  {
   "cell_type": "code",
   "execution_count": 38,
   "id": "67f1d6ee",
   "metadata": {
    "slideshow": {
     "slide_type": "fragment"
    }
   },
   "outputs": [],
   "source": [
    "guardrails = ChatGuardrails(\n",
    "    alltrue_api_key=firewall_key,\n",
    "    alltrue_customer_id=customer_id,\n",
    "    alltrue_endpoint_identifier=endpoint_identifier,\n",
    "    logging_level='WARNING',\n",
    ")"
   ]
  },
  {
   "cell_type": "code",
   "execution_count": 39,
   "id": "c82c89ed",
   "metadata": {
    "slideshow": {
     "slide_type": "fragment"
    }
   },
   "outputs": [],
   "source": [
    "async def guard_io_using_sdk(messages):\n",
    "    try:\n",
    "        # Input Guard\n",
    "        print('Guarding input...')\n",
    "        guarded_input = await guardrails.guard_input(messages)\n",
    "        print(f'guarded_input: {guarded_input}\\n')\n",
    "        \n",
    "        # Get Output\n",
    "        print('Getting output...')\n",
    "        aws_output = get_output(azure_client, guarded_input[-1])\n",
    "        print(f'aws_output: {aws_output}\\n')\n",
    "        \n",
    "        # Output Guard\n",
    "        print('Guarding output...')\n",
    "        guarded_output = await guardrails.guard_output(guarded_input, [aws_output])\n",
    "        print(f'guarded_output: {guarded_output}\\n')\n",
    "\n",
    "    except GuardrailsException as e:\n",
    "        print(e)"
   ]
  },
  {
   "cell_type": "markdown",
   "id": "99d2a8d1",
   "metadata": {
    "slideshow": {
     "slide_type": "slide"
    }
   },
   "source": [
    "### PII Input Example"
   ]
  },
  {
   "cell_type": "code",
   "execution_count": 40,
   "id": "a4d67188",
   "metadata": {
    "ExecuteTime": {
     "end_time": "2025-08-25T18:01:19.804022Z",
     "start_time": "2025-08-25T18:01:18.527344Z"
    },
    "slideshow": {
     "slide_type": "fragment"
    }
   },
   "outputs": [
    {
     "name": "stdout",
     "output_type": "stream",
     "text": [
      "Guarding input...\n",
      "Blocked: PII detected in input (Airline Azure OpenAI Demo)\n"
     ]
    }
   ],
   "source": [
    "messages = ['My phone number is (678) 901-2345']\n",
    "await guard_io_using_sdk(messages)"
   ]
  },
  {
   "cell_type": "markdown",
   "id": "f64f4cb7",
   "metadata": {
    "slideshow": {
     "slide_type": "slide"
    }
   },
   "source": [
    "### PII Output Example"
   ]
  },
  {
   "cell_type": "code",
   "execution_count": 41,
   "id": "fa17d460",
   "metadata": {
    "ExecuteTime": {
     "end_time": "2025-08-25T18:01:29.122962Z",
     "start_time": "2025-08-25T18:01:21.412217Z"
    },
    "scrolled": true,
    "slideshow": {
     "slide_type": "fragment"
    }
   },
   "outputs": [
    {
     "name": "stdout",
     "output_type": "stream",
     "text": [
      "Guarding input...\n",
      "guarded_input: ['Output 10 fictitious names.']\n",
      "\n",
      "Getting output...\n",
      "aws_output: 1. Aurora Skylark\n",
      "2. Jasper Storm\n",
      "3. Ivy Midnight\n",
      "4. Orion Blaze\n",
      "5. Luna Stardust\n",
      "6. Phoenix Frost\n",
      "7. Nova Wildwood\n",
      "8. Raven Shadow\n",
      "9. Sage River\n",
      "10. Willow Winterbane\n",
      "\n",
      "Guarding output...\n",
      "Blocked: PII detected in output (Airline Azure OpenAI Demo)\n"
     ]
    }
   ],
   "source": [
    "messages = ['Output 10 fictitious names.']\n",
    "await guard_io_using_sdk(messages)"
   ]
  },
  {
   "cell_type": "markdown",
   "id": "1e0a18b5",
   "metadata": {
    "slideshow": {
     "slide_type": "slide"
    }
   },
   "source": [
    "# Questions"
   ]
  }
 ],
 "metadata": {
  "celltoolbar": "Slideshow",
  "kernelspec": {
   "display_name": "Python 3 (ipykernel)",
   "language": "python",
   "name": "python3"
  },
  "language_info": {
   "codemirror_mode": {
    "name": "ipython",
    "version": 3
   },
   "file_extension": ".py",
   "mimetype": "text/x-python",
   "name": "python",
   "nbconvert_exporter": "python",
   "pygments_lexer": "ipython3",
   "version": "3.13.2"
  },
  "rise": {
   "css": [
    "rise.css"
   ],
   "theme": "simple",
   "transition": "fade"
  }
 },
 "nbformat": 4,
 "nbformat_minor": 5
}
